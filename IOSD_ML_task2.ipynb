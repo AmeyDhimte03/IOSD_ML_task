{
 "cells": [
  {
   "cell_type": "markdown",
   "metadata": {},
   "source": [
    "Neural Net on neo.csv\n",
    " "
   ]
  },
  {
   "cell_type": "markdown",
   "metadata": {},
   "source": [
    "Data pre-processing"
   ]
  },
  {
   "cell_type": "markdown",
   "metadata": {},
   "source": [
    "Importing the libraries"
   ]
  },
  {
   "cell_type": "code",
   "execution_count": 2,
   "metadata": {},
   "outputs": [],
   "source": [
    "import numpy as np\n",
    "import pandas as pd\n",
    "import tensorflow as tf"
   ]
  },
  {
   "cell_type": "markdown",
   "metadata": {},
   "source": [
    "Importing dataset"
   ]
  },
  {
   "cell_type": "code",
   "execution_count": 3,
   "metadata": {},
   "outputs": [],
   "source": [
    "dataset = pd.read_csv('neo.csv')\n",
    "X = dataset.iloc[:, 2:9].values\n",
    "y = dataset.iloc[:, -1].values"
   ]
  },
  {
   "cell_type": "markdown",
   "metadata": {},
   "source": [
    "Encoding categorial data"
   ]
  },
  {
   "cell_type": "markdown",
   "metadata": {},
   "source": [
    "encoding independent variable"
   ]
  },
  {
   "cell_type": "markdown",
   "metadata": {},
   "source": [
    "encoding orbiting_body column"
   ]
  },
  {
   "cell_type": "code",
   "execution_count": 4,
   "metadata": {},
   "outputs": [],
   "source": [
    "from sklearn.compose import ColumnTransformer\n",
    "from sklearn.preprocessing import OneHotEncoder\n",
    "ct = ColumnTransformer(transformers=[('encoder', OneHotEncoder(), [4])], remainder='passthrough')\n",
    "X = np.array(ct.fit_transform(X))"
   ]
  },
  {
   "cell_type": "markdown",
   "metadata": {},
   "source": [
    "encoding sentry_object column"
   ]
  },
  {
   "cell_type": "code",
   "execution_count": 5,
   "metadata": {},
   "outputs": [],
   "source": [
    "from sklearn.preprocessing import LabelEncoder\n",
    "le1= LabelEncoder()\n",
    "X[:,5]=le1.fit_transform(X[:,5])"
   ]
  },
  {
   "cell_type": "code",
   "execution_count": 6,
   "metadata": {},
   "outputs": [
    {
     "name": "stdout",
     "output_type": "stream",
     "text": [
      "[[1.0 1.1982708007 2.6794149658 ... 54839744.08284605 0 16.73]\n",
      " [1.0 0.2658 0.5943468684 ... 61438126.52395093 0 20.0]\n",
      " [1.0 0.7220295577 1.6145071727 ... 49798724.94045679 0 17.83]\n",
      " ...\n",
      " [1.0 0.0319561887 0.0714562102 ... 28400768.1610167 0 24.6]\n",
      " [1.0 0.0073207399 0.016369672 ... 68692060.5345607 0 27.8]\n",
      " [1.0 0.0398616229 0.0891332986 ... 59772130.59268528 0 24.12]]\n"
     ]
    }
   ],
   "source": [
    "print(X)"
   ]
  },
  {
   "cell_type": "markdown",
   "metadata": {},
   "source": [
    "Encoding dependent variable"
   ]
  },
  {
   "cell_type": "code",
   "execution_count": 7,
   "metadata": {},
   "outputs": [],
   "source": [
    "\n",
    "le2 = LabelEncoder()\n",
    "y = le2.fit_transform(y)"
   ]
  },
  {
   "cell_type": "code",
   "execution_count": 8,
   "metadata": {},
   "outputs": [
    {
     "name": "stdout",
     "output_type": "stream",
     "text": [
      "[0 1 0 ... 0 0 0]\n"
     ]
    }
   ],
   "source": [
    "print(y)"
   ]
  },
  {
   "cell_type": "markdown",
   "metadata": {},
   "source": [
    "Splitting the dataset into the Training set and Test set"
   ]
  },
  {
   "cell_type": "code",
   "execution_count": 9,
   "metadata": {},
   "outputs": [],
   "source": [
    "from sklearn.model_selection import train_test_split\n",
    "X_train, X_test, y_train, y_test = train_test_split(X, y, test_size = 0.3, random_state = 0)"
   ]
  },
  {
   "cell_type": "markdown",
   "metadata": {},
   "source": [
    "Feature Scaling"
   ]
  },
  {
   "cell_type": "code",
   "execution_count": 10,
   "metadata": {},
   "outputs": [],
   "source": [
    "from sklearn.preprocessing import StandardScaler\n",
    "sc = StandardScaler()\n",
    "X_train = sc.fit_transform(X_train)\n",
    "X_test = sc.transform(X_test)"
   ]
  },
  {
   "cell_type": "code",
   "execution_count": 11,
   "metadata": {},
   "outputs": [
    {
     "name": "stdout",
     "output_type": "stream",
     "text": [
      "[[ 0.         -0.41855692 -0.41855692 ...  0.11822139  0.\n",
      "   2.92919472]\n",
      " [ 0.         -0.32544362 -0.32544362 ... -0.85832669  0.\n",
      "   0.44176864]\n",
      " [ 0.         -0.33394526 -0.33394526 ... -1.0587696   0.\n",
      "   0.51086381]\n",
      " ...\n",
      " [ 0.         -0.34531592 -0.34531592 ...  0.99492594  0.\n",
      "   0.61450656]\n",
      " [ 0.         -0.15471923 -0.15471923 ...  0.03852826  0.\n",
      "  -0.32173298]\n",
      " [ 0.         -0.2201943  -0.2201943  ... -0.12460938  0.\n",
      "  -0.11099271]]\n"
     ]
    }
   ],
   "source": [
    "print(X_train)"
   ]
  },
  {
   "cell_type": "code",
   "execution_count": 12,
   "metadata": {},
   "outputs": [
    {
     "name": "stdout",
     "output_type": "stream",
     "text": [
      "[[ 0.         -0.37988826 -0.37988826 ...  0.7386474   0.\n",
      "   1.06362516]\n",
      " [ 0.          0.18757484  0.18757484 ... -0.80678297  0.\n",
      "  -0.94013474]\n",
      " [ 0.         -0.40187796 -0.40187796 ... -1.63750142  0.\n",
      "   1.61638651]\n",
      " ...\n",
      " [ 0.          0.0403941   0.0403941  ...  0.6632239   0.\n",
      "  -0.73284923]\n",
      " [ 0.         -0.4036542  -0.4036542  ... -1.64014542  0.\n",
      "   1.68548168]\n",
      " [ 0.         -0.3582279  -0.3582279  ... -1.51803899  0.\n",
      "   0.7526969 ]]\n"
     ]
    }
   ],
   "source": [
    "print(X_test)"
   ]
  },
  {
   "cell_type": "markdown",
   "metadata": {},
   "source": [
    "Building the neural net"
   ]
  },
  {
   "cell_type": "code",
   "execution_count": 13,
   "metadata": {},
   "outputs": [],
   "source": [
    "nn=tf.keras.models.Sequential()"
   ]
  },
  {
   "cell_type": "markdown",
   "metadata": {},
   "source": [
    "Adding input layer and first hidden layer"
   ]
  },
  {
   "cell_type": "code",
   "execution_count": 14,
   "metadata": {},
   "outputs": [],
   "source": [
    "nn.add(tf.keras.layers.Dense(units=4,activation='relu'))"
   ]
  },
  {
   "cell_type": "markdown",
   "metadata": {},
   "source": [
    "Adding another hidden layer"
   ]
  },
  {
   "cell_type": "code",
   "execution_count": 15,
   "metadata": {},
   "outputs": [],
   "source": [
    "nn.add(tf.keras.layers.Dense(units=4,activation='relu'))"
   ]
  },
  {
   "cell_type": "markdown",
   "metadata": {},
   "source": [
    "Final output layer"
   ]
  },
  {
   "cell_type": "code",
   "execution_count": 16,
   "metadata": {},
   "outputs": [],
   "source": [
    "nn.add(tf.keras.layers.Dense(units=1,activation='sigmoid'))#since the output is in binary form"
   ]
  },
  {
   "cell_type": "markdown",
   "metadata": {},
   "source": [
    "Training the neural net"
   ]
  },
  {
   "cell_type": "code",
   "execution_count": 17,
   "metadata": {},
   "outputs": [],
   "source": [
    "nn.compile(optimizer='adam',loss='binary_crossentropy',metrics=['accuracy'])"
   ]
  },
  {
   "cell_type": "code",
   "execution_count": 18,
   "metadata": {},
   "outputs": [
    {
     "name": "stdout",
     "output_type": "stream",
     "text": [
      "Epoch 1/100\n",
      "1988/1988 [==============================] - 8s 3ms/step - loss: 0.2881 - accuracy: 0.8978\n",
      "Epoch 2/100\n",
      "1988/1988 [==============================] - 5s 3ms/step - loss: 0.2049 - accuracy: 0.9028\n",
      "Epoch 3/100\n",
      "1988/1988 [==============================] - 5s 3ms/step - loss: 0.2003 - accuracy: 0.9028\n",
      "Epoch 4/100\n",
      "1988/1988 [==============================] - 7s 3ms/step - loss: 0.1978 - accuracy: 0.9028\n",
      "Epoch 5/100\n",
      "1988/1988 [==============================] - 6s 3ms/step - loss: 0.1949 - accuracy: 0.9028\n",
      "Epoch 6/100\n",
      "1988/1988 [==============================] - 5s 3ms/step - loss: 0.1926 - accuracy: 0.9058\n",
      "Epoch 7/100\n",
      "1988/1988 [==============================] - 5s 2ms/step - loss: 0.1909 - accuracy: 0.9105\n",
      "Epoch 8/100\n",
      "1988/1988 [==============================] - 5s 3ms/step - loss: 0.1903 - accuracy: 0.9108\n",
      "Epoch 9/100\n",
      "1988/1988 [==============================] - 5s 2ms/step - loss: 0.1899 - accuracy: 0.9110\n",
      "Epoch 10/100\n",
      "1988/1988 [==============================] - 5s 3ms/step - loss: 0.1896 - accuracy: 0.9113\n",
      "Epoch 11/100\n",
      "1988/1988 [==============================] - 6s 3ms/step - loss: 0.1893 - accuracy: 0.9119\n",
      "Epoch 12/100\n",
      "1988/1988 [==============================] - 5s 2ms/step - loss: 0.1892 - accuracy: 0.9114\n",
      "Epoch 13/100\n",
      "1988/1988 [==============================] - 5s 2ms/step - loss: 0.1890 - accuracy: 0.9113\n",
      "Epoch 14/100\n",
      "1988/1988 [==============================] - 5s 2ms/step - loss: 0.1890 - accuracy: 0.9116\n",
      "Epoch 15/100\n",
      "1988/1988 [==============================] - 5s 2ms/step - loss: 0.1890 - accuracy: 0.9118\n",
      "Epoch 16/100\n",
      "1988/1988 [==============================] - 5s 3ms/step - loss: 0.1888 - accuracy: 0.9119\n",
      "Epoch 17/100\n",
      "1988/1988 [==============================] - 5s 3ms/step - loss: 0.1887 - accuracy: 0.9119\n",
      "Epoch 18/100\n",
      "1988/1988 [==============================] - 5s 2ms/step - loss: 0.1887 - accuracy: 0.9116\n",
      "Epoch 19/100\n",
      "1988/1988 [==============================] - 5s 3ms/step - loss: 0.1887 - accuracy: 0.9120\n",
      "Epoch 20/100\n",
      "1988/1988 [==============================] - 5s 3ms/step - loss: 0.1887 - accuracy: 0.9119\n",
      "Epoch 21/100\n",
      "1988/1988 [==============================] - 6s 3ms/step - loss: 0.1885 - accuracy: 0.9121\n",
      "Epoch 22/100\n",
      "1988/1988 [==============================] - 6s 3ms/step - loss: 0.1885 - accuracy: 0.9121\n",
      "Epoch 23/100\n",
      "1988/1988 [==============================] - 6s 3ms/step - loss: 0.1884 - accuracy: 0.9121\n",
      "Epoch 24/100\n",
      "1988/1988 [==============================] - 5s 3ms/step - loss: 0.1883 - accuracy: 0.9126\n",
      "Epoch 25/100\n",
      "1988/1988 [==============================] - 6s 3ms/step - loss: 0.1883 - accuracy: 0.9121\n",
      "Epoch 26/100\n",
      "1988/1988 [==============================] - 5s 3ms/step - loss: 0.1881 - accuracy: 0.9124\n",
      "Epoch 27/100\n",
      "1988/1988 [==============================] - 6s 3ms/step - loss: 0.1879 - accuracy: 0.9122\n",
      "Epoch 28/100\n",
      "1988/1988 [==============================] - 5s 3ms/step - loss: 0.1878 - accuracy: 0.9125\n",
      "Epoch 29/100\n",
      "1988/1988 [==============================] - 5s 3ms/step - loss: 0.1874 - accuracy: 0.9125\n",
      "Epoch 30/100\n",
      "1988/1988 [==============================] - 6s 3ms/step - loss: 0.1871 - accuracy: 0.9125\n",
      "Epoch 31/100\n",
      "1988/1988 [==============================] - 5s 3ms/step - loss: 0.1870 - accuracy: 0.9124\n",
      "Epoch 32/100\n",
      "1988/1988 [==============================] - 5s 3ms/step - loss: 0.1869 - accuracy: 0.9122\n",
      "Epoch 33/100\n",
      "1988/1988 [==============================] - 5s 3ms/step - loss: 0.1868 - accuracy: 0.9124\n",
      "Epoch 34/100\n",
      "1988/1988 [==============================] - 5s 3ms/step - loss: 0.1867 - accuracy: 0.9126\n",
      "Epoch 35/100\n",
      "1988/1988 [==============================] - 5s 3ms/step - loss: 0.1864 - accuracy: 0.9127\n",
      "Epoch 36/100\n",
      "1988/1988 [==============================] - 5s 3ms/step - loss: 0.1863 - accuracy: 0.9124\n",
      "Epoch 37/100\n",
      "1988/1988 [==============================] - 5s 3ms/step - loss: 0.1863 - accuracy: 0.9125\n",
      "Epoch 38/100\n",
      "1988/1988 [==============================] - 5s 3ms/step - loss: 0.1862 - accuracy: 0.9122\n",
      "Epoch 39/100\n",
      "1988/1988 [==============================] - 6s 3ms/step - loss: 0.1861 - accuracy: 0.9124\n",
      "Epoch 40/100\n",
      "1988/1988 [==============================] - 5s 3ms/step - loss: 0.1859 - accuracy: 0.9123\n",
      "Epoch 41/100\n",
      "1988/1988 [==============================] - 5s 2ms/step - loss: 0.1860 - accuracy: 0.9125\n",
      "Epoch 42/100\n",
      "1988/1988 [==============================] - 5s 2ms/step - loss: 0.1858 - accuracy: 0.9125\n",
      "Epoch 43/100\n",
      "1988/1988 [==============================] - 5s 2ms/step - loss: 0.1858 - accuracy: 0.9125\n",
      "Epoch 44/100\n",
      "1988/1988 [==============================] - 5s 2ms/step - loss: 0.1858 - accuracy: 0.9125\n",
      "Epoch 45/100\n",
      "1988/1988 [==============================] - 5s 3ms/step - loss: 0.1857 - accuracy: 0.9124\n",
      "Epoch 46/100\n",
      "1988/1988 [==============================] - 5s 3ms/step - loss: 0.1856 - accuracy: 0.9123\n",
      "Epoch 47/100\n",
      "1988/1988 [==============================] - 5s 3ms/step - loss: 0.1856 - accuracy: 0.9122\n",
      "Epoch 48/100\n",
      "1988/1988 [==============================] - 5s 3ms/step - loss: 0.1856 - accuracy: 0.9126\n",
      "Epoch 49/100\n",
      "1988/1988 [==============================] - 5s 3ms/step - loss: 0.1856 - accuracy: 0.9125\n",
      "Epoch 50/100\n",
      "1988/1988 [==============================] - 5s 3ms/step - loss: 0.1853 - accuracy: 0.9125\n",
      "Epoch 51/100\n",
      "1988/1988 [==============================] - 5s 3ms/step - loss: 0.1855 - accuracy: 0.9124\n",
      "Epoch 52/100\n",
      "1988/1988 [==============================] - 5s 3ms/step - loss: 0.1853 - accuracy: 0.9124\n",
      "Epoch 53/100\n",
      "1988/1988 [==============================] - 6s 3ms/step - loss: 0.1852 - accuracy: 0.9126\n",
      "Epoch 54/100\n",
      "1988/1988 [==============================] - 5s 3ms/step - loss: 0.1853 - accuracy: 0.9125\n",
      "Epoch 55/100\n",
      "1988/1988 [==============================] - 5s 2ms/step - loss: 0.1853 - accuracy: 0.9127\n",
      "Epoch 56/100\n",
      "1988/1988 [==============================] - 5s 3ms/step - loss: 0.1853 - accuracy: 0.9122\n",
      "Epoch 57/100\n",
      "1988/1988 [==============================] - 5s 3ms/step - loss: 0.1853 - accuracy: 0.9124\n",
      "Epoch 58/100\n",
      "1988/1988 [==============================] - 5s 3ms/step - loss: 0.1852 - accuracy: 0.9126\n",
      "Epoch 59/100\n",
      "1988/1988 [==============================] - 5s 3ms/step - loss: 0.1852 - accuracy: 0.9123\n",
      "Epoch 60/100\n",
      "1988/1988 [==============================] - 5s 3ms/step - loss: 0.1852 - accuracy: 0.9123\n",
      "Epoch 61/100\n",
      "1988/1988 [==============================] - 5s 2ms/step - loss: 0.1851 - accuracy: 0.9123\n",
      "Epoch 62/100\n",
      "1988/1988 [==============================] - 5s 3ms/step - loss: 0.1851 - accuracy: 0.9123\n",
      "Epoch 63/100\n",
      "1988/1988 [==============================] - 5s 2ms/step - loss: 0.1852 - accuracy: 0.9128\n",
      "Epoch 64/100\n",
      "1988/1988 [==============================] - 5s 3ms/step - loss: 0.1851 - accuracy: 0.9125\n",
      "Epoch 65/100\n",
      "1988/1988 [==============================] - 7s 3ms/step - loss: 0.1850 - accuracy: 0.9124\n",
      "Epoch 66/100\n",
      "1988/1988 [==============================] - 7s 4ms/step - loss: 0.1851 - accuracy: 0.9123\n",
      "Epoch 67/100\n",
      "1988/1988 [==============================] - 5s 3ms/step - loss: 0.1850 - accuracy: 0.9123\n",
      "Epoch 68/100\n",
      "1988/1988 [==============================] - 5s 2ms/step - loss: 0.1850 - accuracy: 0.9123\n",
      "Epoch 69/100\n",
      "1988/1988 [==============================] - 5s 3ms/step - loss: 0.1851 - accuracy: 0.9124\n",
      "Epoch 70/100\n",
      "1988/1988 [==============================] - 5s 2ms/step - loss: 0.1850 - accuracy: 0.9123\n",
      "Epoch 71/100\n",
      "1988/1988 [==============================] - 5s 3ms/step - loss: 0.1850 - accuracy: 0.9123\n",
      "Epoch 72/100\n",
      "1988/1988 [==============================] - 6s 3ms/step - loss: 0.1850 - accuracy: 0.9123\n",
      "Epoch 73/100\n",
      "1988/1988 [==============================] - 5s 2ms/step - loss: 0.1850 - accuracy: 0.9125\n",
      "Epoch 74/100\n",
      "1988/1988 [==============================] - 5s 2ms/step - loss: 0.1850 - accuracy: 0.9122\n",
      "Epoch 75/100\n",
      "1988/1988 [==============================] - 5s 2ms/step - loss: 0.1850 - accuracy: 0.9123\n",
      "Epoch 76/100\n",
      "1988/1988 [==============================] - 5s 2ms/step - loss: 0.1850 - accuracy: 0.9123\n",
      "Epoch 77/100\n",
      "1988/1988 [==============================] - 5s 2ms/step - loss: 0.1851 - accuracy: 0.9123\n",
      "Epoch 78/100\n",
      "1988/1988 [==============================] - 5s 2ms/step - loss: 0.1850 - accuracy: 0.9122\n",
      "Epoch 79/100\n",
      "1988/1988 [==============================] - 5s 2ms/step - loss: 0.1850 - accuracy: 0.9123\n",
      "Epoch 80/100\n",
      "1988/1988 [==============================] - 5s 2ms/step - loss: 0.1850 - accuracy: 0.9122\n",
      "Epoch 81/100\n",
      "1988/1988 [==============================] - 5s 2ms/step - loss: 0.1849 - accuracy: 0.9126\n",
      "Epoch 82/100\n",
      "1988/1988 [==============================] - 5s 2ms/step - loss: 0.1849 - accuracy: 0.9123\n",
      "Epoch 83/100\n",
      "1988/1988 [==============================] - 5s 2ms/step - loss: 0.1849 - accuracy: 0.9125\n",
      "Epoch 84/100\n",
      "1988/1988 [==============================] - 5s 2ms/step - loss: 0.1849 - accuracy: 0.9124\n",
      "Epoch 85/100\n",
      "1988/1988 [==============================] - 6s 3ms/step - loss: 0.1849 - accuracy: 0.9124\n",
      "Epoch 86/100\n",
      "1988/1988 [==============================] - 5s 3ms/step - loss: 0.1849 - accuracy: 0.9126\n",
      "Epoch 87/100\n",
      "1988/1988 [==============================] - 5s 2ms/step - loss: 0.1849 - accuracy: 0.9124\n",
      "Epoch 88/100\n",
      "1988/1988 [==============================] - 5s 3ms/step - loss: 0.1851 - accuracy: 0.9124\n",
      "Epoch 89/100\n",
      "1988/1988 [==============================] - 6s 3ms/step - loss: 0.1849 - accuracy: 0.9122\n",
      "Epoch 90/100\n",
      "1988/1988 [==============================] - 5s 2ms/step - loss: 0.1847 - accuracy: 0.9126\n",
      "Epoch 91/100\n",
      "1988/1988 [==============================] - 5s 2ms/step - loss: 0.1847 - accuracy: 0.9125\n",
      "Epoch 92/100\n",
      "1988/1988 [==============================] - 5s 2ms/step - loss: 0.1849 - accuracy: 0.9123\n",
      "Epoch 93/100\n",
      "1988/1988 [==============================] - 5s 3ms/step - loss: 0.1849 - accuracy: 0.9122\n",
      "Epoch 94/100\n",
      "1988/1988 [==============================] - 5s 3ms/step - loss: 0.1850 - accuracy: 0.9121\n",
      "Epoch 95/100\n",
      "1988/1988 [==============================] - 5s 3ms/step - loss: 0.1847 - accuracy: 0.9124\n",
      "Epoch 96/100\n",
      "1988/1988 [==============================] - 5s 2ms/step - loss: 0.1850 - accuracy: 0.9125\n",
      "Epoch 97/100\n",
      "1988/1988 [==============================] - 5s 3ms/step - loss: 0.1848 - accuracy: 0.9123\n",
      "Epoch 98/100\n",
      "1988/1988 [==============================] - 5s 3ms/step - loss: 0.1849 - accuracy: 0.9121\n",
      "Epoch 99/100\n",
      "1988/1988 [==============================] - 5s 3ms/step - loss: 0.1849 - accuracy: 0.9123\n",
      "Epoch 100/100\n",
      "1988/1988 [==============================] - 5s 3ms/step - loss: 0.1849 - accuracy: 0.9122\n"
     ]
    },
    {
     "data": {
      "text/plain": [
       "<keras.callbacks.History at 0x2837d949f30>"
      ]
     },
     "execution_count": 18,
     "metadata": {},
     "output_type": "execute_result"
    }
   ],
   "source": [
    "nn.fit(X_train,y_train,batch_size=32,epochs=100)"
   ]
  },
  {
   "cell_type": "markdown",
   "metadata": {},
   "source": [
    "Predicting the Test set results"
   ]
  },
  {
   "cell_type": "code",
   "execution_count": 24,
   "metadata": {},
   "outputs": [
    {
     "name": "stdout",
     "output_type": "stream",
     "text": [
      "852/852 [==============================] - 1s 1ms/step\n",
      "Actual result: [0 1 0 ... 0 0 0]\n",
      "predicted result: [[False]\n",
      " [False]\n",
      " [False]\n",
      " ...\n",
      " [False]\n",
      " [False]\n",
      " [False]]\n"
     ]
    }
   ],
   "source": [
    "y_pred = nn.predict(X_test)\n",
    "y_pred = (y_pred > 0.5)\n",
    "print(\"Actual result:\",y_test)\n",
    "print(\"predicted result:\",y_pred)"
   ]
  },
  {
   "cell_type": "markdown",
   "metadata": {},
   "source": [
    "Accuracy:"
   ]
  },
  {
   "cell_type": "code",
   "execution_count": 26,
   "metadata": {},
   "outputs": [
    {
     "name": "stdout",
     "output_type": "stream",
     "text": [
      "Accuracy: 0.9128839308649224\n"
     ]
    }
   ],
   "source": [
    "from sklearn.metrics import accuracy_score\n",
    "print(\"Accuracy:\",accuracy_score(y_test,y_pred))"
   ]
  }
 ],
 "metadata": {
  "kernelspec": {
   "display_name": "Python 3.10.2 64-bit",
   "language": "python",
   "name": "python3"
  },
  "language_info": {
   "codemirror_mode": {
    "name": "ipython",
    "version": 3
   },
   "file_extension": ".py",
   "mimetype": "text/x-python",
   "name": "python",
   "nbconvert_exporter": "python",
   "pygments_lexer": "ipython3",
   "version": "3.10.2"
  },
  "orig_nbformat": 4,
  "vscode": {
   "interpreter": {
    "hash": "1f5bed0e4d13cdcefd1efb139e69807bb9f03e1747b28af54d88a1d57c10b904"
   }
  }
 },
 "nbformat": 4,
 "nbformat_minor": 2
}
